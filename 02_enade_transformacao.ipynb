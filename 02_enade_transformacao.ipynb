{
 "cells": [
  {
   "attachments": {},
   "cell_type": "markdown",
   "metadata": {},
   "source": [
    "# Enade - Transformação de Dados - parte 01"
   ]
  },
  {
   "cell_type": "code",
   "execution_count": 2,
   "metadata": {},
   "outputs": [],
   "source": [
    "# Importar as bibliotecas necessárias\n",
    "import pandas as pd\n",
    "import numpy as numpy\n",
    "import os"
   ]
  },
  {
   "cell_type": "code",
   "execution_count": 3,
   "metadata": {},
   "outputs": [],
   "source": [
    "enade = pd.read_csv(\n",
    "    \"./enade2021/2.DADOS/microdados2021_arq1.txt\",\n",
    "    sep = \";\", decimal = \",\"\n",
    ")"
   ]
  },
  {
   "cell_type": "code",
   "execution_count": null,
   "metadata": {},
   "outputs": [],
   "source": [
    "enade.head()"
   ]
  },
  {
   "cell_type": "code",
   "execution_count": null,
   "metadata": {},
   "outputs": [],
   "source": [
    "# Verificando o schema da tabela\n",
    "dict(enade.dtypes)"
   ]
  },
  {
   "attachments": {},
   "cell_type": "markdown",
   "metadata": {},
   "source": [
    "- CO_IES\n",
    "- CO_CATEGAD\n",
    "- CO_GRUPO\n",
    "- CO_MODALIDADE\n",
    "- CO_UF_CURSO\n",
    "- CO_REGIAO_CURSO\n",
    "- NU_IDADE\n",
    "- TP_SEXO\n",
    "- NT_GER\n",
    "- NT_FG\n",
    "- NT_CE\n",
    "\n",
    "Mais alguns itens do questionário do estudante:\n",
    "\n",
    "- 01: Estado Civil\n",
    "- 02: Cor ou Raça\n",
    "- 04: Escolaridade do Pai\n",
    "- 05: Escolaridade da Mãe\n",
    "- 08: Renda Familar\n",
    "- 10: Situação de trabalho\n",
    "- 11: Situação de bolsa\n",
    "- 14: Intercâmbio\n",
    "- 15: Cotas\n",
    "- 23: Horas de estudos / Semanas\n",
    "- 25: Motivo de escolha do curso\n",
    "- 26: Motivo de escolha da IES"
   ]
  },
  {
   "cell_type": "code",
   "execution_count": null,
   "metadata": {},
   "outputs": [],
   "source": [
    "#CO_UF_CURSO\n",
    "enade.CO_UF_CURSO.describe()"
   ]
  },
  {
   "cell_type": "code",
   "execution_count": 8,
   "metadata": {},
   "outputs": [
    {
     "data": {
      "text/plain": [
       "0"
      ]
     },
     "execution_count": 8,
     "metadata": {},
     "output_type": "execute_result"
    }
   ],
   "source": [
    "# Contar o número de nulos\n",
    "enade.CO_UF_CURSO.isnull().sum()"
   ]
  },
  {
   "cell_type": "code",
   "execution_count": 9,
   "metadata": {},
   "outputs": [
    {
     "data": {
      "text/plain": [
       "(489866, 10)"
      ]
     },
     "execution_count": 9,
     "metadata": {},
     "output_type": "execute_result"
    }
   ],
   "source": [
    "# Retonar uma tuplas\n",
    "enade.shape"
   ]
  },
  {
   "cell_type": "code",
   "execution_count": 10,
   "metadata": {},
   "outputs": [
    {
     "data": {
      "text/plain": [
       "0.0"
      ]
     },
     "execution_count": 10,
     "metadata": {},
     "output_type": "execute_result"
    }
   ],
   "source": [
    "# Quantidade relativa de nulos\n",
    "enade.CO_UF_CURSO.isnull().sum() / enade.shape[0]"
   ]
  },
  {
   "cell_type": "code",
   "execution_count": null,
   "metadata": {},
   "outputs": [],
   "source": [
    "# Acessando estatíticas descritivas da NOTA GERAL\n",
    "# apenas para os alunos da região Centro-Oeste (2)\n",
    "enade.loc[\n",
    "    enade.CO_REGIAO_CURSO == 2\n",
    "].CO_UF_CURSO.describe()"
   ]
  },
  {
   "cell_type": "code",
   "execution_count": null,
   "metadata": {},
   "outputs": [],
   "source": [
    "# Calculando estatística descritivas apenas para alunos com NOTA\n",
    "enade.loc[\n",
    "    enade.CO_UF_CURSO > 0\n",
    "].CO_REGIAO_CURSO.describe()"
   ]
  },
  {
   "cell_type": "code",
   "execution_count": null,
   "metadata": {},
   "outputs": [],
   "source": [
    "# Filtrando apenas alunos entre 20 e 50 anos\n",
    "enade.loc[\n",
    "    (enade.NU_IDADE >= 20) &\n",
    "    (enade.NU_IDADE <= 50)\n",
    "].NT_GET.describe()"
   ]
  },
  {
   "cell_type": "code",
   "execution_count": null,
   "metadata": {},
   "outputs": [],
   "source": [
    "# Tabela cruzda\n",
    "# Contar quantos homens e mulheres\n",
    "enade.TP_SEXO.value_counts() / enade.shape[0]"
   ]
  },
  {
   "cell_type": "code",
   "execution_count": null,
   "metadata": {},
   "outputs": [],
   "source": [
    "# Quero comparar as regiões - vamos agregar utilizando uma média\n",
    "enade[['NT_GER', 'NT_FG', 'NT_CE']].describe()"
   ]
  },
  {
   "cell_type": "code",
   "execution_count": null,
   "metadata": {},
   "outputs": [],
   "source": [
    "#Vamos comparar médias de Notas para cada região do Brasil\n",
    "enade.groupby('CO_REGIAO_CURSO').agg({\n",
    "    \"NT_GER\": \"mean\",\n",
    "    \"NT_FG\" : \"mean\",\n",
    "    \"NT_CE\" : \"mean\"\n",
    "})"
   ]
  },
  {
   "attachments": {},
   "cell_type": "markdown",
   "metadata": {},
   "source": [
    "# Transformações\n",
    "\n",
    "- CO_IES\n",
    "- CO_CATEGAD\n",
    "- CO_GRUPO\n",
    "- CO_MODALIDADE\n",
    "- CO_UF_CURSO\n",
    "- CO_REGIAO_CURSO\n",
    "- NU_IDADE\n",
    "- TP_SEXO\n",
    "- NT_GER\n",
    "- NT_FG\n",
    "- NT_CE"
   ]
  },
  {
   "cell_type": "code",
   "execution_count": null,
   "metadata": {},
   "outputs": [],
   "source": [
    "enade['DESC_PUBLICA'] = \"\"\n",
    "enade.loc[enade.CO_CATEGAD.isin([118, 120, 121, 10005, 10006, 10007, 10008, 10009, 17634]),\n",
    "\"DESC_PUBLICA\"\n",
    "] = \"Privado\""
   ]
  },
  {
   "cell_type": "code",
   "execution_count": null,
   "metadata": {},
   "outputs": [],
   "source": [
    "enade.loc[\n",
    "    enade.CO_CATEGAD.isin([93, 115, 116, 10001, 10002, 10003]),\n",
    "    \"DESC_PUBLICA\"\n",
    "] = \"Pública\""
   ]
  },
  {
   "cell_type": "code",
   "execution_count": null,
   "metadata": {},
   "outputs": [],
   "source": [
    "enade.DESC_PUBLICA.value_counts()"
   ]
  },
  {
   "cell_type": "code",
   "execution_count": null,
   "metadata": {},
   "outputs": [],
   "source": [
    "enade.DESC_PUBLICA.value_counts() / enade.shape[0]"
   ]
  },
  {
   "cell_type": "code",
   "execution_count": 19,
   "metadata": {},
   "outputs": [],
   "source": [
    "# Transformar a modalidade\n",
    "enade[\"CO_MODALIDADE\"] = enade.CO_MODALIDADE.replace({\n",
    "    0 : 'EaD',\n",
    "    1 : 'Presencial'\n",
    "})"
   ]
  },
  {
   "cell_type": "code",
   "execution_count": 20,
   "metadata": {},
   "outputs": [
    {
     "data": {
      "text/plain": [
       "EaD           255368\n",
       "Presencial    234498\n",
       "Name: CO_MODALIDADE, dtype: int64"
      ]
     },
     "execution_count": 20,
     "metadata": {},
     "output_type": "execute_result"
    }
   ],
   "source": [
    "enade.CO_MODALIDADE.value_counts()"
   ]
  },
  {
   "cell_type": "code",
   "execution_count": 21,
   "metadata": {},
   "outputs": [],
   "source": [
    "# Transforma REGIÃO\n",
    "enade[\"CO_REGIAO_CURSO\"] = enade.CO_REGIAO_CURSO.replace({\n",
    "    1 : \"Região Norte\",\n",
    "    2 : \"Região Nordeste\",\n",
    "    3 : \"Região Sudeste\",\n",
    "    4 : \"Região Sul\",\n",
    "    5 : \"Região Centro-Oeste\"\n",
    "})"
   ]
  },
  {
   "cell_type": "code",
   "execution_count": 22,
   "metadata": {},
   "outputs": [
    {
     "data": {
      "text/plain": [
       "Região Sudeste         260800\n",
       "Região Sul              94069\n",
       "Região Nordeste         78116\n",
       "Região Centro-Oeste     37317\n",
       "Região Norte            19564\n",
       "Name: CO_REGIAO_CURSO, dtype: int64"
      ]
     },
     "execution_count": 22,
     "metadata": {},
     "output_type": "execute_result"
    }
   ],
   "source": [
    "enade.CO_REGIAO_CURSO.value_counts()"
   ]
  },
  {
   "cell_type": "code",
   "execution_count": null,
   "metadata": {},
   "outputs": [],
   "source": [
    "# Transformando Cor Raça\n",
    "enade[\"DESC_COR\"] = enade.QE_I02.replace({\n",
    "    \"A\" : \"Branca\",\n",
    "    \"B\" : \"Preta\",\n",
    "    \"C\" : \"Amarela\",\n",
    "    \"D\" : \"Parda\",\n",
    "    \"E\" : \"Indígena\",\n",
    "    \"F\" : pd.NA,\n",
    "    \" \" : pd.NA\n",
    "})"
   ]
  },
  {
   "cell_type": "code",
   "execution_count": null,
   "metadata": {},
   "outputs": [],
   "source": [
    "dict(enade.DESC_COR.value_counts())"
   ]
  },
  {
   "attachments": {},
   "cell_type": "markdown",
   "metadata": {},
   "source": [
    "# Algumas perguntas para responder\n",
    "1. Qual é a nota geral média dos alunos da região Nordeste?"
   ]
  },
  {
   "cell_type": "code",
   "execution_count": null,
   "metadata": {},
   "outputs": [],
   "source": [
    "enade.loc[\n",
    "    enade.CO_REGIAO_CURSO == \"Nordeste\",\n",
    "    \"NT_GER\"\n",
    "].mean()"
   ]
  },
  {
   "attachments": {},
   "cell_type": "markdown",
   "metadata": {},
   "source": [
    "2. Qual é a média da nota do componente específico dos alunos do Rio Grade do SUL de cursos de Engenharia Elétrica?"
   ]
  },
  {
   "cell_type": "code",
   "execution_count": null,
   "metadata": {},
   "outputs": [],
   "source": [
    "enade.loc[\n",
    "    (enade.CO_UF_CURSO == 43) &\n",
    "    (enade).CO_GRUPO == 5806),\n",
    "    \"NT_CE\"\n",
    "].mean()"
   ]
  },
  {
   "attachments": {},
   "cell_type": "markdown",
   "metadata": {},
   "source": [
    "3. Qual é a média da nota do componete de formação geral de alunas do sexo feminino, pardas, de Minas Gerais em cursos presenciais de Engenharia de Produção?"
   ]
  },
  {
   "cell_type": "code",
   "execution_count": null,
   "metadata": {},
   "outputs": [],
   "source": [
    "enade.loc[\n",
    "    (enade.TP_SEXO == \"F\") &\n",
    "    (enade.DESC_COR == \"Parda\") &\n",
    "    (enade.CO_UF_CURSO == 31) &\n",
    "    (enade.CO_MODALIDADE == \"Presencial\") &\n",
    "    (enade.CO_GRUPO == 6208),\n",
    "    \"NT_FG\"\n",
    "].mean()"
   ]
  }
 ],
 "metadata": {
  "kernelspec": {
   "display_name": "Python 3",
   "language": "python",
   "name": "python3"
  },
  "language_info": {
   "codemirror_mode": {
    "name": "ipython",
    "version": 3
   },
   "file_extension": ".py",
   "mimetype": "text/x-python",
   "name": "python",
   "nbconvert_exporter": "python",
   "pygments_lexer": "ipython3",
   "version": "3.9.13"
  },
  "orig_nbformat": 4,
  "vscode": {
   "interpreter": {
    "hash": "dafacb30937f48547525dfedb4672a3f86681ffb3558b69e89fa11a5e9a71f7d"
   }
  }
 },
 "nbformat": 4,
 "nbformat_minor": 2
}
